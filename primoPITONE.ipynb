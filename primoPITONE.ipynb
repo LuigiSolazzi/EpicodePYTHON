{
  "nbformat": 4,
  "nbformat_minor": 0,
  "metadata": {
    "colab": {
      "provenance": [],
      "authorship_tag": "ABX9TyOhm+BuCDRj8wQcS5BEs5zF",
      "include_colab_link": true
    },
    "kernelspec": {
      "name": "python3",
      "display_name": "Python 3"
    },
    "language_info": {
      "name": "python"
    }
  },
  "cells": [
    {
      "cell_type": "markdown",
      "metadata": {
        "id": "view-in-github",
        "colab_type": "text"
      },
      "source": [
        "<a href=\"https://colab.research.google.com/github/LuigiSolazzi/EpicodePYTHON/blob/main/primoPITONE.ipynb\" target=\"_parent\"><img src=\"https://colab.research.google.com/assets/colab-badge.svg\" alt=\"Open In Colab\"/></a>"
      ]
    },
    {
      "cell_type": "markdown",
      "source": [],
      "metadata": {
        "id": "hGnwD6o5_kae"
      }
    },
    {
      "cell_type": "code",
      "source": [
        "variabile_numerica = 5\n",
        "variabile_testo = 'Ciao miei studnti belli'"
      ],
      "metadata": {
        "id": "kMcdNyF0_j94"
      },
      "execution_count": null,
      "outputs": []
    },
    {
      "cell_type": "code",
      "source": [
        "mio_numero=10"
      ],
      "metadata": {
        "id": "t_tyCyRnDVWI"
      },
      "execution_count": null,
      "outputs": []
    },
    {
      "cell_type": "code",
      "source": [
        "if mio_numero % 2 == 0:\n",
        "  print(\"è pari\")\n",
        "else:\n",
        "  print(\"è dispari\")"
      ],
      "metadata": {
        "colab": {
          "base_uri": "https://localhost:8080/"
        },
        "id": "aQJFC47ZDb2l",
        "outputId": "e837ee71-7e7a-4b34-b997-de53b73b9959"
      },
      "execution_count": null,
      "outputs": [
        {
          "output_type": "stream",
          "name": "stdout",
          "text": [
            "è pari\n"
          ]
        }
      ]
    },
    {
      "cell_type": "code",
      "source": [
        "mio_numero_modificato = mio_numero -5"
      ],
      "metadata": {
        "id": "YpFu9sOSD3v5"
      },
      "execution_count": null,
      "outputs": []
    },
    {
      "cell_type": "code",
      "source": [
        "print(mio_numero_modificato)"
      ],
      "metadata": {
        "colab": {
          "base_uri": "https://localhost:8080/"
        },
        "id": "Tf3HgTO4D8uR",
        "outputId": "f7a73c7c-e1c7-430f-c75a-97b460e5bc0a"
      },
      "execution_count": null,
      "outputs": [
        {
          "output_type": "stream",
          "name": "stdout",
          "text": [
            "5\n"
          ]
        }
      ]
    },
    {
      "cell_type": "code",
      "source": [
        "type(mio_numero_modificato)"
      ],
      "metadata": {
        "colab": {
          "base_uri": "https://localhost:8080/"
        },
        "id": "FUY10VUYEAT0",
        "outputId": "45b78340-34e6-452c-c61c-de1493d22f97"
      },
      "execution_count": null,
      "outputs": [
        {
          "output_type": "execute_result",
          "data": {
            "text/plain": [
              "int"
            ]
          },
          "metadata": {},
          "execution_count": 17
        }
      ]
    },
    {
      "cell_type": "code",
      "source": [
        "mio_numero = mio_numero +1\n",
        "print(mio_numero)"
      ],
      "metadata": {
        "colab": {
          "base_uri": "https://localhost:8080/"
        },
        "id": "hkjN8_eRE_xY",
        "outputId": "0f86f1e6-57b0-4ffa-cdee-c70ab7548201"
      },
      "execution_count": null,
      "outputs": [
        {
          "output_type": "stream",
          "name": "stdout",
          "text": [
            "15\n"
          ]
        }
      ]
    },
    {
      "cell_type": "markdown",
      "source": [
        "Qua sotto mostriamo gli operatori di asegnazione e sono 4: += , -= , *= , /="
      ],
      "metadata": {
        "id": "XbgyaNgiFib8"
      }
    },
    {
      "cell_type": "code",
      "source": [
        "mio_numero += 1\n",
        "print(mio_numero)"
      ],
      "metadata": {
        "colab": {
          "base_uri": "https://localhost:8080/"
        },
        "id": "7frQ-MfRFILS",
        "outputId": "c9965c7c-81cc-45ee-ec6f-ab29b7c97d78"
      },
      "execution_count": null,
      "outputs": [
        {
          "output_type": "stream",
          "name": "stdout",
          "text": [
            "16\n"
          ]
        }
      ]
    },
    {
      "cell_type": "code",
      "source": [
        "mio_numero -= 1\n",
        "print(mio_numero)"
      ],
      "metadata": {
        "colab": {
          "base_uri": "https://localhost:8080/"
        },
        "id": "GIbiXIWFFP3j",
        "outputId": "9cc31238-2d4a-42b2-99ed-d2888cae2936"
      },
      "execution_count": null,
      "outputs": [
        {
          "output_type": "stream",
          "name": "stdout",
          "text": [
            "10\n"
          ]
        }
      ]
    },
    {
      "cell_type": "code",
      "source": [
        "mio_numero *= 2\n",
        "print(mio_numero)"
      ],
      "metadata": {
        "colab": {
          "base_uri": "https://localhost:8080/"
        },
        "id": "vEKYSWaQFWpO",
        "outputId": "9b8c4136-fb6b-4bfa-9ce0-48da6976504c"
      },
      "execution_count": null,
      "outputs": [
        {
          "output_type": "stream",
          "name": "stdout",
          "text": [
            "320\n"
          ]
        }
      ]
    },
    {
      "cell_type": "code",
      "source": [
        "mio_numero /= 2\n",
        "print(mio_numero)"
      ],
      "metadata": {
        "colab": {
          "base_uri": "https://localhost:8080/"
        },
        "id": "aop2CFemFa-w",
        "outputId": "be83acb3-6a23-407c-ec19-476f8fca1dfa"
      },
      "execution_count": null,
      "outputs": [
        {
          "output_type": "stream",
          "name": "stdout",
          "text": [
            "10.0\n"
          ]
        }
      ]
    },
    {
      "cell_type": "code",
      "source": [
        "mio_numero = 12\n",
        "type(mio_numero)"
      ],
      "metadata": {
        "colab": {
          "base_uri": "https://localhost:8080/"
        },
        "id": "3xyKzfx0La3m",
        "outputId": "ab4b19ad-c326-4504-86d8-2b4f21efb2e5"
      },
      "execution_count": null,
      "outputs": [
        {
          "output_type": "execute_result",
          "data": {
            "text/plain": [
              "int"
            ]
          },
          "metadata": {},
          "execution_count": 43
        }
      ]
    },
    {
      "cell_type": "markdown",
      "source": [
        "ora vediamo il type casting"
      ],
      "metadata": {
        "id": "RRQaBF3OMM2q"
      }
    },
    {
      "cell_type": "code",
      "source": [
        "mio_numero=5"
      ],
      "metadata": {
        "id": "hBRRzwxgMMTA"
      },
      "execution_count": null,
      "outputs": []
    },
    {
      "cell_type": "code",
      "source": [
        "type(mio_numero)"
      ],
      "metadata": {
        "colab": {
          "base_uri": "https://localhost:8080/"
        },
        "id": "dbCqUqTZMSSQ",
        "outputId": "9cd5766d-bb8d-452c-c16f-7da0afd1f41f"
      },
      "execution_count": null,
      "outputs": [
        {
          "output_type": "execute_result",
          "data": {
            "text/plain": [
              "int"
            ]
          },
          "metadata": {},
          "execution_count": 46
        }
      ]
    },
    {
      "cell_type": "code",
      "source": [
        "print(mio_numero)"
      ],
      "metadata": {
        "colab": {
          "base_uri": "https://localhost:8080/"
        },
        "id": "_znfxy84MVIw",
        "outputId": "210ca0ff-fd8c-4740-97c2-8039ef410159"
      },
      "execution_count": null,
      "outputs": [
        {
          "output_type": "stream",
          "name": "stdout",
          "text": [
            "5\n"
          ]
        }
      ]
    },
    {
      "cell_type": "code",
      "source": [
        "mio_numero_float = float(mio_numero)"
      ],
      "metadata": {
        "id": "y3BPr1mXMX_O"
      },
      "execution_count": null,
      "outputs": []
    },
    {
      "cell_type": "code",
      "source": [
        "type(mio_numero)"
      ],
      "metadata": {
        "colab": {
          "base_uri": "https://localhost:8080/"
        },
        "id": "BXuRQFcRMem_",
        "outputId": "198fcbf7-6591-47f2-ea22-628c206f4703"
      },
      "execution_count": null,
      "outputs": [
        {
          "output_type": "execute_result",
          "data": {
            "text/plain": [
              "int"
            ]
          },
          "metadata": {},
          "execution_count": 49
        }
      ]
    },
    {
      "cell_type": "code",
      "source": [
        "type(mio_numero_float)"
      ],
      "metadata": {
        "colab": {
          "base_uri": "https://localhost:8080/"
        },
        "id": "kSCVwWoWMhRa",
        "outputId": "3cc22e1a-c510-41af-ff78-b25f994ed38a"
      },
      "execution_count": null,
      "outputs": [
        {
          "output_type": "execute_result",
          "data": {
            "text/plain": [
              "float"
            ]
          },
          "metadata": {},
          "execution_count": 52
        }
      ]
    },
    {
      "cell_type": "code",
      "source": [
        "mio_numero_float = 7.5"
      ],
      "metadata": {
        "id": "Xx0-FQ03MuNn"
      },
      "execution_count": null,
      "outputs": []
    },
    {
      "cell_type": "code",
      "source": [
        "mio_numero_int= int(mio_numero_float)"
      ],
      "metadata": {
        "id": "R2xF9VVIM6RD"
      },
      "execution_count": null,
      "outputs": []
    },
    {
      "cell_type": "code",
      "source": [
        "print(mio_numero_int)"
      ],
      "metadata": {
        "colab": {
          "base_uri": "https://localhost:8080/"
        },
        "id": "WGFefNC9M-w0",
        "outputId": "a256618b-7e8d-49e1-ba88-9221b6b00eff"
      },
      "execution_count": null,
      "outputs": [
        {
          "output_type": "stream",
          "name": "stdout",
          "text": [
            "7\n"
          ]
        }
      ]
    },
    {
      "cell_type": "code",
      "source": [
        "x=\"10\"\n",
        "y=5\n",
        "int(x)+y"
      ],
      "metadata": {
        "colab": {
          "base_uri": "https://localhost:8080/"
        },
        "id": "qcEoW833NB3n",
        "outputId": "2d648ef4-3189-41bf-a30c-a3d45fd86933"
      },
      "execution_count": null,
      "outputs": [
        {
          "output_type": "execute_result",
          "data": {
            "text/plain": [
              "15"
            ]
          },
          "metadata": {},
          "execution_count": 56
        }
      ]
    },
    {
      "cell_type": "code",
      "source": [
        "print(\"Se voglio printare una frase tra virgolette, dentro una print devo inserire un \\\"backslash in questo modo a inizio e fine virgolette \\\" \")"
      ],
      "metadata": {
        "colab": {
          "base_uri": "https://localhost:8080/"
        },
        "id": "dnW95hYCOWmA",
        "outputId": "b376eda0-5153-4da3-fa4f-4c714e3a2836"
      },
      "execution_count": null,
      "outputs": [
        {
          "output_type": "stream",
          "name": "stdout",
          "text": [
            "Se voglio printare una frase tra virgolette, dentro una print devo inserire un \"backslash in questo modo a inizio e fine virgolette \" \n"
          ]
        }
      ]
    },
    {
      "cell_type": "markdown",
      "source": [
        "ora vediamo la funzione help, è una bombaaaaa"
      ],
      "metadata": {
        "id": "5_XO_9fDR5oJ"
      }
    },
    {
      "cell_type": "code",
      "source": [
        "help(print)"
      ],
      "metadata": {
        "colab": {
          "base_uri": "https://localhost:8080/"
        },
        "id": "3na1XSZ_R4za",
        "outputId": "e8e6a7b6-488b-485e-d8a9-020cbf0f4e16"
      },
      "execution_count": null,
      "outputs": [
        {
          "output_type": "stream",
          "name": "stdout",
          "text": [
            "Help on built-in function print in module builtins:\n",
            "\n",
            "print(...)\n",
            "    print(value, ..., sep=' ', end='\\n', file=sys.stdout, flush=False)\n",
            "    \n",
            "    Prints the values to a stream, or to sys.stdout by default.\n",
            "    Optional keyword arguments:\n",
            "    file:  a file-like object (stream); defaults to the current sys.stdout.\n",
            "    sep:   string inserted between values, default a space.\n",
            "    end:   string appended after the last value, default a newline.\n",
            "    flush: whether to forcibly flush the stream.\n",
            "\n"
          ]
        }
      ]
    },
    {
      "cell_type": "code",
      "source": [
        "\"ciao\" + \" \" + \"studenti\""
      ],
      "metadata": {
        "colab": {
          "base_uri": "https://localhost:8080/",
          "height": 36
        },
        "id": "VpmyBqURR_Lu",
        "outputId": "4cfa141c-dfa6-4a98-997d-4c80a906fad2"
      },
      "execution_count": null,
      "outputs": [
        {
          "output_type": "execute_result",
          "data": {
            "text/plain": [
              "'ciao studenti'"
            ],
            "application/vnd.google.colaboratory.intrinsic+json": {
              "type": "string"
            }
          },
          "metadata": {},
          "execution_count": 60
        }
      ]
    },
    {
      "cell_type": "code",
      "source": [
        "Conta il numero di caratteri"
      ],
      "metadata": {
        "id": "yaSc5QNCSiNo"
      },
      "execution_count": null,
      "outputs": []
    },
    {
      "cell_type": "code",
      "source": [
        "len(\"studenti\")"
      ],
      "metadata": {
        "colab": {
          "base_uri": "https://localhost:8080/"
        },
        "id": "IIvtqPjQSegq",
        "outputId": "83b47160-b89f-40b8-8073-e812922fae3b"
      },
      "execution_count": null,
      "outputs": [
        {
          "output_type": "execute_result",
          "data": {
            "text/plain": [
              "8"
            ]
          },
          "metadata": {},
          "execution_count": 61
        }
      ]
    },
    {
      "cell_type": "code",
      "source": [
        "conta= \"studenti\"\n",
        "len(conta)"
      ],
      "metadata": {
        "colab": {
          "base_uri": "https://localhost:8080/"
        },
        "id": "uinSABUyShdO",
        "outputId": "0f7f6fd6-f4a6-4861-cedd-51896ef63cbe"
      },
      "execution_count": null,
      "outputs": [
        {
          "output_type": "execute_result",
          "data": {
            "text/plain": [
              "8"
            ]
          },
          "metadata": {},
          "execution_count": 62
        }
      ]
    },
    {
      "cell_type": "code",
      "source": [
        "Maiuscolo/minuscolo"
      ],
      "metadata": {
        "id": "Nv27pvnISsly"
      },
      "execution_count": null,
      "outputs": []
    },
    {
      "cell_type": "code",
      "source": [
        "conta.upper()"
      ],
      "metadata": {
        "colab": {
          "base_uri": "https://localhost:8080/",
          "height": 36
        },
        "id": "Bu9MoiL5SpD4",
        "outputId": "dd6e46ab-e87a-448c-d871-3980f6d6c1de"
      },
      "execution_count": null,
      "outputs": [
        {
          "output_type": "execute_result",
          "data": {
            "text/plain": [
              "'STUDENTI'"
            ],
            "application/vnd.google.colaboratory.intrinsic+json": {
              "type": "string"
            }
          },
          "metadata": {},
          "execution_count": 63
        }
      ]
    },
    {
      "cell_type": "code",
      "source": [
        "conta.lower()"
      ],
      "metadata": {
        "colab": {
          "base_uri": "https://localhost:8080/",
          "height": 36
        },
        "id": "J5jNBuMDSzrL",
        "outputId": "7b36c884-fd74-4aae-96be-fd0dcd8738db"
      },
      "execution_count": null,
      "outputs": [
        {
          "output_type": "execute_result",
          "data": {
            "text/plain": [
              "'studenti'"
            ],
            "application/vnd.google.colaboratory.intrinsic+json": {
              "type": "string"
            }
          },
          "metadata": {},
          "execution_count": 64
        }
      ]
    },
    {
      "cell_type": "code",
      "source": [
        "ora vediamo come togliere gli spazi"
      ],
      "metadata": {
        "id": "PsQ_k8phS4r8"
      },
      "execution_count": null,
      "outputs": []
    },
    {
      "cell_type": "code",
      "source": [
        "mia_stringa = \"     pirla\""
      ],
      "metadata": {
        "id": "_AtoBvOYS2IY"
      },
      "execution_count": null,
      "outputs": []
    },
    {
      "cell_type": "code",
      "source": [
        "len(mia_stringa)"
      ],
      "metadata": {
        "colab": {
          "base_uri": "https://localhost:8080/"
        },
        "id": "drb72WAMS_Uf",
        "outputId": "594fab59-d089-4f99-d11f-e8a84c621fe6"
      },
      "execution_count": null,
      "outputs": [
        {
          "output_type": "execute_result",
          "data": {
            "text/plain": [
              "10"
            ]
          },
          "metadata": {},
          "execution_count": 66
        }
      ]
    },
    {
      "cell_type": "code",
      "source": [
        "print(mia_stringa)"
      ],
      "metadata": {
        "colab": {
          "base_uri": "https://localhost:8080/"
        },
        "id": "a2PhqZyNTDwD",
        "outputId": "55a2d253-381c-4093-8779-2ea298dbc89e"
      },
      "execution_count": null,
      "outputs": [
        {
          "output_type": "stream",
          "name": "stdout",
          "text": [
            "     pirla\n"
          ]
        }
      ]
    },
    {
      "cell_type": "code",
      "source": [
        "mia_stringa.strip()"
      ],
      "metadata": {
        "colab": {
          "base_uri": "https://localhost:8080/",
          "height": 36
        },
        "id": "Y2IghtcmTHFD",
        "outputId": "44f737c8-8bf3-4f4e-a689-90c639eeffdd"
      },
      "execution_count": null,
      "outputs": [
        {
          "output_type": "execute_result",
          "data": {
            "text/plain": [
              "'pirla'"
            ],
            "application/vnd.google.colaboratory.intrinsic+json": {
              "type": "string"
            }
          },
          "metadata": {},
          "execution_count": 69
        }
      ]
    },
    {
      "cell_type": "code",
      "source": [
        "print(mia_stringa.strip())"
      ],
      "metadata": {
        "colab": {
          "base_uri": "https://localhost:8080/"
        },
        "id": "XeM54C97TMVS",
        "outputId": "7037bee7-497b-482d-e6a2-d94db169a20d"
      },
      "execution_count": null,
      "outputs": [
        {
          "output_type": "stream",
          "name": "stdout",
          "text": [
            "pirla\n"
          ]
        }
      ]
    },
    {
      "cell_type": "code",
      "source": [
        "mia_stringa=mia_stringa.strip()"
      ],
      "metadata": {
        "id": "27KUr01ATRF2"
      },
      "execution_count": null,
      "outputs": []
    },
    {
      "cell_type": "code",
      "source": [
        "print(mia_stringa)"
      ],
      "metadata": {
        "colab": {
          "base_uri": "https://localhost:8080/"
        },
        "id": "_kSudv5YTWB0",
        "outputId": "6b273148-7c3d-49ca-9ed5-988cdc46865f"
      },
      "execution_count": null,
      "outputs": [
        {
          "output_type": "stream",
          "name": "stdout",
          "text": [
            "pirla\n"
          ]
        }
      ]
    },
    {
      "cell_type": "code",
      "source": [
        "mia_stringa = \"          studenti\""
      ],
      "metadata": {
        "id": "I3zvB8XgTYp2"
      },
      "execution_count": null,
      "outputs": []
    },
    {
      "cell_type": "code",
      "source": [
        "len(mia_stringa.strip())"
      ],
      "metadata": {
        "colab": {
          "base_uri": "https://localhost:8080/"
        },
        "id": "oLlYPkheTh7T",
        "outputId": "6e2ca69c-d0a3-4a92-abf3-0a92a0075cc6"
      },
      "execution_count": null,
      "outputs": [
        {
          "output_type": "execute_result",
          "data": {
            "text/plain": [
              "8"
            ]
          },
          "metadata": {},
          "execution_count": 74
        }
      ]
    },
    {
      "cell_type": "code",
      "source": [
        "print(mia_stringa)"
      ],
      "metadata": {
        "colab": {
          "base_uri": "https://localhost:8080/"
        },
        "id": "xxRL5w5lTnX9",
        "outputId": "e09031d3-b1f7-4c8c-be51-6223cc2bd4f6"
      },
      "execution_count": null,
      "outputs": [
        {
          "output_type": "stream",
          "name": "stdout",
          "text": [
            "          studenti\n"
          ]
        }
      ]
    },
    {
      "cell_type": "markdown",
      "source": [
        "FUNZIONIIIIIIIIII"
      ],
      "metadata": {
        "id": "NyoAy4uaULxe"
      }
    },
    {
      "cell_type": "code",
      "source": [
        "def aggiungi_numero(numero):\n",
        "  print(numero + 5)"
      ],
      "metadata": {
        "id": "WIo6yIoLULcE"
      },
      "execution_count": null,
      "outputs": []
    },
    {
      "cell_type": "code",
      "source": [
        "aggiungi_numero(10)"
      ],
      "metadata": {
        "colab": {
          "base_uri": "https://localhost:8080/"
        },
        "id": "NMZMfWZbTqq8",
        "outputId": "b5d6f898-a7ae-4d2e-af9c-1a2ccd32fcc7"
      },
      "execution_count": null,
      "outputs": [
        {
          "output_type": "stream",
          "name": "stdout",
          "text": [
            "15\n"
          ]
        }
      ]
    },
    {
      "cell_type": "code",
      "source": [
        "risultatodellamiafunzione= aggiungi_numero(10)"
      ],
      "metadata": {
        "colab": {
          "base_uri": "https://localhost:8080/"
        },
        "id": "YnMQY2uaUXgR",
        "outputId": "29944a7b-1f70-422c-c6ff-c09247fd86de"
      },
      "execution_count": null,
      "outputs": [
        {
          "output_type": "stream",
          "name": "stdout",
          "text": [
            "15\n"
          ]
        }
      ]
    },
    {
      "cell_type": "code",
      "source": [
        "def somma_cinque(numero):\n",
        "  risultato = numero + 5\n",
        "  print(risultato)\n",
        "  return risultato"
      ],
      "metadata": {
        "id": "OIjmF-d5UgOT"
      },
      "execution_count": null,
      "outputs": []
    },
    {
      "cell_type": "code",
      "source": [
        "risultatodellafunzione= somma_cinque(10)"
      ],
      "metadata": {
        "colab": {
          "base_uri": "https://localhost:8080/"
        },
        "id": "78jKZCs4VBzb",
        "outputId": "4611551f-0f22-42f7-e8b3-939df1d0704b"
      },
      "execution_count": null,
      "outputs": [
        {
          "output_type": "stream",
          "name": "stdout",
          "text": [
            "15\n"
          ]
        }
      ]
    },
    {
      "cell_type": "code",
      "source": [
        "print(risultatodellafunzione)"
      ],
      "metadata": {
        "colab": {
          "base_uri": "https://localhost:8080/"
        },
        "id": "YT2hvBWKVGB6",
        "outputId": "7cc10752-64ae-43c0-a434-04c466671225"
      },
      "execution_count": null,
      "outputs": [
        {
          "output_type": "stream",
          "name": "stdout",
          "text": [
            "15\n"
          ]
        }
      ]
    },
    {
      "cell_type": "code",
      "source": [
        "def somma(numero_primo,numero_secondo):\n",
        "  risultato = numero_primo + numero_secondo\n",
        "  print(risultato)\n",
        "  return risultato\n",
        "  # qui facciamo la somma di due numeri\n",
        "  # praticamente questi sono i commenti del codice\n",
        "  # e quindi questa sfilza di righe con dei commenti qua e là è stata quasi inutile ahahahah"
      ],
      "metadata": {
        "id": "xg5sqcTzVKVz"
      },
      "execution_count": null,
      "outputs": []
    },
    {
      "cell_type": "code",
      "source": [
        "calcolo= somma(15,67)"
      ],
      "metadata": {
        "colab": {
          "base_uri": "https://localhost:8080/"
        },
        "id": "6f7kWxFeVuVL",
        "outputId": "8a001514-863b-441b-ffb4-b0cd34ee96ba"
      },
      "execution_count": null,
      "outputs": [
        {
          "output_type": "stream",
          "name": "stdout",
          "text": [
            "82\n"
          ]
        }
      ]
    },
    {
      "cell_type": "code",
      "source": [
        "print(calcolo)"
      ],
      "metadata": {
        "colab": {
          "base_uri": "https://localhost:8080/"
        },
        "id": "9i2DKE4zVy0W",
        "outputId": "f8021c15-eb72-4b48-9264-bf91bb1ad62c"
      },
      "execution_count": null,
      "outputs": [
        {
          "output_type": "stream",
          "name": "stdout",
          "text": [
            "82\n"
          ]
        }
      ]
    },
    {
      "cell_type": "code",
      "source": [],
      "metadata": {
        "id": "NJgB2onrV0HM"
      },
      "execution_count": null,
      "outputs": []
    }
  ]
}